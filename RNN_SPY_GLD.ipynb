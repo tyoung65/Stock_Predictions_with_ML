{
 "cells": [
  {
   "cell_type": "code",
   "execution_count": 1,
   "metadata": {},
   "outputs": [],
   "source": [
    "import os\n",
    "from pathlib import Path\n",
    "import requests\n",
    "import datetime\n",
    "import json\n",
    "import pandas as pd\n",
    "import numpy as np\n",
    "%matplotlib inline\n",
    "\n",
    "from alpha_vantage.timeseries import TimeSeries\n"
   ]
  },
  {
   "cell_type": "code",
   "execution_count": 2,
   "metadata": {},
   "outputs": [],
   "source": [
    "from numpy.random import seed\n",
    "seed(23)\n",
    "from tensorflow import random\n",
    "\n",
    "random.set_seed(32)"
   ]
  },
  {
   "cell_type": "code",
   "execution_count": 3,
   "metadata": {},
   "outputs": [
    {
     "data": {
      "text/plain": [
       "{'1. open': '303.9900',\n",
       " '2. high': '310.2000',\n",
       " '3. low': '303.8200',\n",
       " '4. close': '308.3600',\n",
       " '5. volume': '112828251'}"
      ]
     },
     "execution_count": 3,
     "metadata": {},
     "output_type": "execute_result"
    }
   ],
   "source": [
    "ts = TimeSeries(key='alpha_vantage_api')\n",
    "\n",
    "# Get json object with the daily price data and another with  the call's metadata\n",
    "\n",
    "\n",
    "#SPDR S&P 500 ETF \n",
    "sp500_etf_data, sp500_etf_meta_data = ts.get_daily('SPY', outputsize='full')\n",
    "sp500_etf_data['2020-06-30']"
   ]
  },
  {
   "cell_type": "code",
   "execution_count": 4,
   "metadata": {},
   "outputs": [
    {
     "data": {
      "text/html": [
       "<div>\n",
       "<style scoped>\n",
       "    .dataframe tbody tr th:only-of-type {\n",
       "        vertical-align: middle;\n",
       "    }\n",
       "\n",
       "    .dataframe tbody tr th {\n",
       "        vertical-align: top;\n",
       "    }\n",
       "\n",
       "    .dataframe thead th {\n",
       "        text-align: right;\n",
       "    }\n",
       "</style>\n",
       "<table border=\"1\" class=\"dataframe\">\n",
       "  <thead>\n",
       "    <tr style=\"text-align: right;\">\n",
       "      <th></th>\n",
       "      <th>Close</th>\n",
       "    </tr>\n",
       "    <tr>\n",
       "      <th>Date</th>\n",
       "      <th></th>\n",
       "    </tr>\n",
       "  </thead>\n",
       "  <tbody>\n",
       "    <tr>\n",
       "      <th>2000-07-14</th>\n",
       "      <td>151.2500</td>\n",
       "    </tr>\n",
       "    <tr>\n",
       "      <th>2000-07-13</th>\n",
       "      <td>149.7812</td>\n",
       "    </tr>\n",
       "    <tr>\n",
       "      <th>2000-07-12</th>\n",
       "      <td>149.1250</td>\n",
       "    </tr>\n",
       "    <tr>\n",
       "      <th>2000-07-11</th>\n",
       "      <td>148.1562</td>\n",
       "    </tr>\n",
       "    <tr>\n",
       "      <th>2000-07-10</th>\n",
       "      <td>147.8437</td>\n",
       "    </tr>\n",
       "  </tbody>\n",
       "</table>\n",
       "</div>"
      ],
      "text/plain": [
       "               Close\n",
       "Date                \n",
       "2000-07-14  151.2500\n",
       "2000-07-13  149.7812\n",
       "2000-07-12  149.1250\n",
       "2000-07-11  148.1562\n",
       "2000-07-10  147.8437"
      ]
     },
     "execution_count": 4,
     "metadata": {},
     "output_type": "execute_result"
    }
   ],
   "source": [
    "df = []\n",
    "for x in sp500_etf_data:\n",
    "        date = x\n",
    "        close = sp500_etf_data[x]['4. close']\n",
    "        df.append({\n",
    "            \"Date\": date,\n",
    "            \"Close\": close,\n",
    "        })\n",
    "tickers_df = pd.DataFrame(df)\n",
    "tickers_df = tickers_df[['Date', 'Close']]\n",
    "#tickers_df.sort_values(by='Date', ascending = False, inplace=True)\n",
    "tickers_df['Date']= pd.to_datetime(tickers_df['Date'])\n",
    "tickers_df.set_index(\"Date\", inplace=True)\n",
    "tickers_df.tail()"
   ]
  },
  {
   "cell_type": "code",
   "execution_count": 5,
   "metadata": {},
   "outputs": [],
   "source": [
    "def window_data(df, window, feature_col_number, target_col_number):\n",
    "    \"\"\"\n",
    "    This function accepts the column number for the features (X) and the target (y).\n",
    "    It chunks the data up with a rolling window of Xt - window to predict Xt.\n",
    "    It returns two numpy arrays of X and y.\n",
    "    \"\"\"\n",
    "    X = []\n",
    "    y = []\n",
    "    for i in range(len(df) - window - 1):\n",
    "        features = df.iloc[i : (i + window), feature_col_number]\n",
    "        target = df.iloc[(i + window), target_col_number]\n",
    "        X.append(features)\n",
    "        y.append(target)\n",
    "    return np.array(X), np.array(y).reshape(-1, 1)"
   ]
  },
  {
   "cell_type": "markdown",
   "metadata": {},
   "source": [
    "### 2. Creating the features (X) and target (y) data using the window_data() function"
   ]
  },
  {
   "cell_type": "code",
   "execution_count": 6,
   "metadata": {},
   "outputs": [],
   "source": [
    "window_size = 60\n",
    "feature_column = 0\n",
    "target_column = 0\n",
    "\n",
    "X, y = window_data(tickers_df, window_size, feature_column, target_column)\n",
    "# print (f\"X sample values:\\n{X[:5]} \\n\")\n",
    "# print (f\"y sample values:\\n{y[:5]}\")"
   ]
  },
  {
   "cell_type": "markdown",
   "metadata": {},
   "source": [
    "### 3. Splitting Data Into Training and Testing"
   ]
  },
  {
   "cell_type": "code",
   "execution_count": 7,
   "metadata": {},
   "outputs": [],
   "source": [
    "# Splitting 80% of the data for training and the remainder for testing.\n",
    "split = int(0.80 * len(X))\n",
    "X_train = X[: split - 1]\n",
    "X_test = X[split:]\n",
    "y_train = y[: split - 1]\n",
    "y_test = y[split:]"
   ]
  },
  {
   "cell_type": "markdown",
   "metadata": {},
   "source": [
    "### 4. Scale Data"
   ]
  },
  {
   "cell_type": "code",
   "execution_count": 8,
   "metadata": {},
   "outputs": [],
   "source": [
    "from sklearn.preprocessing import MinMaxScaler\n",
    "\n",
    "scaler = MinMaxScaler()\n",
    "scaler.fit(X)\n",
    "X_train = scaler.transform(X_train)\n",
    "X_test = scaler.transform(X_test)\n",
    "scaler.fit(y)\n",
    "y_train = scaler.transform(y_train)\n",
    "y_test = scaler.transform(y_test)"
   ]
  },
  {
   "cell_type": "markdown",
   "metadata": {},
   "source": [
    "### 5. Reshape Data"
   ]
  },
  {
   "cell_type": "code",
   "execution_count": 9,
   "metadata": {},
   "outputs": [],
   "source": [
    "X_train = X_train.reshape((X_train.shape[0], X_train.shape[1], 1))\n",
    "X_test = X_test.reshape((X_test.shape[0], X_test.shape[1], 1))\n",
    "#print (f\"X_train sample values:\\n{X_train[:5]} \\n\")\n",
    "#print (f\"X_test sample values:\\n{X_test[:5]}\")"
   ]
  },
  {
   "cell_type": "markdown",
   "metadata": {},
   "source": [
    "### 6. Build and Train Model"
   ]
  },
  {
   "cell_type": "code",
   "execution_count": 10,
   "metadata": {},
   "outputs": [],
   "source": [
    "# Importing required Keras modules\n",
    "from tensorflow.keras.models import Sequential\n",
    "from tensorflow.keras.layers import LSTM, Dense, Dropout"
   ]
  },
  {
   "cell_type": "code",
   "execution_count": 11,
   "metadata": {},
   "outputs": [],
   "source": [
    "# a. Define the LSTM RNN model.\n",
    "model = Sequential()\n",
    "\n",
    " # Initial model setup\n",
    "number_units = 60\n",
    "dropout_fraction = 0.4\n",
    "\n",
    " # Layer 1\n",
    "model.add(LSTM(\n",
    "    units=number_units,\n",
    "    return_sequences=True,\n",
    "    input_shape=(X_train.shape[1], 1))\n",
    "    )\n",
    "model.add(Dropout(dropout_fraction))\n",
    "\n",
    " # Layer 2\n",
    "model.add(LSTM(units=number_units, return_sequences=True))\n",
    "model.add(Dropout(dropout_fraction))\n",
    "\n",
    " # Layer 3\n",
    "model.add(LSTM(units=number_units))\n",
    "model.add(Dropout(dropout_fraction))\n",
    "\n",
    " # Output layer\n",
    "model.add(Dense(1))"
   ]
  },
  {
   "cell_type": "code",
   "execution_count": 12,
   "metadata": {},
   "outputs": [],
   "source": [
    "# b. Compile the model\n",
    "model.compile(optimizer=\"adam\", loss=\"mean_squared_error\")"
   ]
  },
  {
   "cell_type": "code",
   "execution_count": 13,
   "metadata": {},
   "outputs": [
    {
     "name": "stdout",
     "output_type": "stream",
     "text": [
      "Model: \"sequential\"\n",
      "_________________________________________________________________\n",
      "Layer (type)                 Output Shape              Param #   \n",
      "=================================================================\n",
      "lstm (LSTM)                  (None, 60, 60)            14880     \n",
      "_________________________________________________________________\n",
      "dropout (Dropout)            (None, 60, 60)            0         \n",
      "_________________________________________________________________\n",
      "lstm_1 (LSTM)                (None, 60, 60)            29040     \n",
      "_________________________________________________________________\n",
      "dropout_1 (Dropout)          (None, 60, 60)            0         \n",
      "_________________________________________________________________\n",
      "lstm_2 (LSTM)                (None, 60)                29040     \n",
      "_________________________________________________________________\n",
      "dropout_2 (Dropout)          (None, 60)                0         \n",
      "_________________________________________________________________\n",
      "dense (Dense)                (None, 1)                 61        \n",
      "=================================================================\n",
      "Total params: 73,021\n",
      "Trainable params: 73,021\n",
      "Non-trainable params: 0\n",
      "_________________________________________________________________\n"
     ]
    }
   ],
   "source": [
    "# c. Summary\n",
    "model.summary()"
   ]
  },
  {
   "cell_type": "code",
   "execution_count": 14,
   "metadata": {},
   "outputs": [
    {
     "name": "stdout",
     "output_type": "stream",
     "text": [
      "Epoch 1/20\n",
      "133/133 [==============================] - 16s 117ms/step - loss: 0.0259\n",
      "Epoch 2/20\n",
      "133/133 [==============================] - 15s 113ms/step - loss: 0.0107\n",
      "Epoch 3/20\n",
      "133/133 [==============================] - 16s 119ms/step - loss: 0.0110\n",
      "Epoch 4/20\n",
      "133/133 [==============================] - 17s 126ms/step - loss: 0.0103\n",
      "Epoch 5/20\n",
      "133/133 [==============================] - 17s 128ms/step - loss: 0.0084\n",
      "Epoch 6/20\n",
      "133/133 [==============================] - 16s 120ms/step - loss: 0.0073\n",
      "Epoch 7/20\n",
      "133/133 [==============================] - 16s 121ms/step - loss: 0.0076\n",
      "Epoch 8/20\n",
      "133/133 [==============================] - 16s 120ms/step - loss: 0.0077\n",
      "Epoch 9/20\n",
      "133/133 [==============================] - 16s 121ms/step - loss: 0.0092\n",
      "Epoch 10/20\n",
      "133/133 [==============================] - 16s 122ms/step - loss: 0.0124\n",
      "Epoch 11/20\n",
      "133/133 [==============================] - 16s 123ms/step - loss: 0.0150\n",
      "Epoch 12/20\n",
      "133/133 [==============================] - 16s 123ms/step - loss: 0.0147\n",
      "Epoch 13/20\n",
      "133/133 [==============================] - 16s 122ms/step - loss: 0.0140\n",
      "Epoch 14/20\n",
      "133/133 [==============================] - 16s 117ms/step - loss: 0.0132\n",
      "Epoch 15/20\n",
      "133/133 [==============================] - 16s 117ms/step - loss: 0.0114\n",
      "Epoch 16/20\n",
      "133/133 [==============================] - 16s 119ms/step - loss: 0.0110\n",
      "Epoch 17/20\n",
      "133/133 [==============================] - 14s 108ms/step - loss: 0.0116\n",
      "Epoch 18/20\n",
      "133/133 [==============================] - 16s 122ms/step - loss: 0.0109\n",
      "Epoch 19/20\n",
      "133/133 [==============================] - 16s 124ms/step - loss: 0.0113\n",
      "Epoch 20/20\n",
      "133/133 [==============================] - 16s 124ms/step - loss: 0.0102\n"
     ]
    },
    {
     "data": {
      "text/plain": [
       "<tensorflow.python.keras.callbacks.History at 0x1fd3f2f5dc8>"
      ]
     },
     "execution_count": 14,
     "metadata": {},
     "output_type": "execute_result"
    }
   ],
   "source": [
    "# Train the model\n",
    "model.fit(X_train, y_train, epochs=20, shuffle=False, batch_size=30, verbose=1)"
   ]
  },
  {
   "cell_type": "markdown",
   "metadata": {},
   "source": [
    "### 7. Make Predictions"
   ]
  },
  {
   "cell_type": "code",
   "execution_count": 15,
   "metadata": {},
   "outputs": [],
   "source": [
    "# a. Make predictions using the testing data X_test\n",
    "predicted = model.predict(X_test)"
   ]
  },
  {
   "cell_type": "code",
   "execution_count": 16,
   "metadata": {},
   "outputs": [
    {
     "data": {
      "text/html": [
       "<div>\n",
       "<style scoped>\n",
       "    .dataframe tbody tr th:only-of-type {\n",
       "        vertical-align: middle;\n",
       "    }\n",
       "\n",
       "    .dataframe tbody tr th {\n",
       "        vertical-align: top;\n",
       "    }\n",
       "\n",
       "    .dataframe thead th {\n",
       "        text-align: right;\n",
       "    }\n",
       "</style>\n",
       "<table border=\"1\" class=\"dataframe\">\n",
       "  <thead>\n",
       "    <tr style=\"text-align: right;\">\n",
       "      <th></th>\n",
       "      <th>Actual</th>\n",
       "      <th>Predicted</th>\n",
       "    </tr>\n",
       "  </thead>\n",
       "  <tbody>\n",
       "    <tr>\n",
       "      <th>0</th>\n",
       "      <td>113.45</td>\n",
       "      <td>113.828835</td>\n",
       "    </tr>\n",
       "    <tr>\n",
       "      <th>1</th>\n",
       "      <td>113.84</td>\n",
       "      <td>114.123871</td>\n",
       "    </tr>\n",
       "    <tr>\n",
       "      <th>2</th>\n",
       "      <td>114.39</td>\n",
       "      <td>114.382652</td>\n",
       "    </tr>\n",
       "    <tr>\n",
       "      <th>3</th>\n",
       "      <td>114.75</td>\n",
       "      <td>114.622986</td>\n",
       "    </tr>\n",
       "    <tr>\n",
       "      <th>4</th>\n",
       "      <td>113.77</td>\n",
       "      <td>114.860870</td>\n",
       "    </tr>\n",
       "  </tbody>\n",
       "</table>\n",
       "</div>"
      ],
      "text/plain": [
       "   Actual   Predicted\n",
       "0  113.45  113.828835\n",
       "1  113.84  114.123871\n",
       "2  114.39  114.382652\n",
       "3  114.75  114.622986\n",
       "4  113.77  114.860870"
      ]
     },
     "execution_count": 16,
     "metadata": {},
     "output_type": "execute_result"
    }
   ],
   "source": [
    "# b. Recover the original prices instead of the scaled version\n",
    "predicted_prices = scaler.inverse_transform(predicted)\n",
    "real_prices = scaler.inverse_transform(y_test.reshape(-1, 1))\n",
    "\n",
    "# Create a DataFrame of Real and Predicted values\n",
    "stocks = pd.DataFrame({\n",
    "    \"Actual\": real_prices.ravel(),\n",
    "    \"Predicted\": predicted_prices.ravel()\n",
    "})\n",
    "\n",
    "# Show the DataFrame's head\n",
    "stocks.head()"
   ]
  },
  {
   "cell_type": "markdown",
   "metadata": {},
   "source": [
    "### 8. Evaluate Model Performance"
   ]
  },
  {
   "cell_type": "code",
   "execution_count": 17,
   "metadata": {
    "collapsed": true,
    "jupyter": {
     "outputs_hidden": true,
     "source_hidden": true
    }
   },
   "outputs": [
    {
     "data": {
      "text/plain": [
       "0.0001293784735025838"
      ]
     },
     "execution_count": 17,
     "metadata": {},
     "output_type": "execute_result"
    }
   ],
   "source": [
    "# Evaluate the model\n",
    "model.evaluate(X_test, y_test, verbose=0)"
   ]
  },
  {
   "cell_type": "markdown",
   "metadata": {},
   "source": [
    "### 9. Plot"
   ]
  },
  {
   "cell_type": "code",
   "execution_count": 18,
   "metadata": {},
   "outputs": [
    {
     "data": {
      "text/plain": [
       "<matplotlib.axes._subplots.AxesSubplot at 0x1fd48f47b48>"
      ]
     },
     "execution_count": 18,
     "metadata": {},
     "output_type": "execute_result"
    },
    {
     "data": {
      "image/png": "[encoded data removed]",
      "text/plain": [
       "<Figure size 432x288 with 1 Axes>"
      ]
     },
     "metadata": {
      "needs_background": "light"
     },
     "output_type": "display_data"
    }
   ],
   "source": [
    "# Plot the real vs predicted prices as a line chart\n",
    "stocks.plot(title=\"Actual Vs. Predicted Stock Prices\")"
   ]
  },
  {
   "cell_type": "markdown",
   "metadata": {},
   "source": [
    "### 10. Create DataFrame for GLD Prices"
   ]
  },
  {
   "cell_type": "code",
   "execution_count": 19,
   "metadata": {},
   "outputs": [
    {
     "data": {
      "text/plain": [
       "{'1. open': '166.3100',\n",
       " '2. high': '167.9906',\n",
       " '3. low': '166.1850',\n",
       " '4. close': '167.3700',\n",
       " '5. volume': '12746655'}"
      ]
     },
     "execution_count": 19,
     "metadata": {},
     "output_type": "execute_result"
    }
   ],
   "source": [
    "#SPDR Gold ETF \n",
    "gold_etf_data, gold_etf_meta_data = ts.get_daily('GLD', outputsize='full')\n",
    "gold_etf_data['2020-06-30']"
   ]
  },
  {
   "cell_type": "code",
   "execution_count": 20,
   "metadata": {},
   "outputs": [
    {
     "data": {
      "text/html": [
       "<div>\n",
       "<style scoped>\n",
       "    .dataframe tbody tr th:only-of-type {\n",
       "        vertical-align: middle;\n",
       "    }\n",
       "\n",
       "    .dataframe tbody tr th {\n",
       "        vertical-align: top;\n",
       "    }\n",
       "\n",
       "    .dataframe thead th {\n",
       "        text-align: right;\n",
       "    }\n",
       "</style>\n",
       "<table border=\"1\" class=\"dataframe\">\n",
       "  <thead>\n",
       "    <tr style=\"text-align: right;\">\n",
       "      <th></th>\n",
       "      <th>Close</th>\n",
       "    </tr>\n",
       "    <tr>\n",
       "      <th>Date</th>\n",
       "      <th></th>\n",
       "    </tr>\n",
       "  </thead>\n",
       "  <tbody>\n",
       "    <tr>\n",
       "      <th>2004-11-24</th>\n",
       "      <td>45.0500</td>\n",
       "    </tr>\n",
       "    <tr>\n",
       "      <th>2004-11-23</th>\n",
       "      <td>44.7500</td>\n",
       "    </tr>\n",
       "    <tr>\n",
       "      <th>2004-11-22</th>\n",
       "      <td>44.9500</td>\n",
       "    </tr>\n",
       "    <tr>\n",
       "      <th>2004-11-19</th>\n",
       "      <td>44.7800</td>\n",
       "    </tr>\n",
       "    <tr>\n",
       "      <th>2004-11-18</th>\n",
       "      <td>44.3800</td>\n",
       "    </tr>\n",
       "  </tbody>\n",
       "</table>\n",
       "</div>"
      ],
      "text/plain": [
       "              Close\n",
       "Date               \n",
       "2004-11-24  45.0500\n",
       "2004-11-23  44.7500\n",
       "2004-11-22  44.9500\n",
       "2004-11-19  44.7800\n",
       "2004-11-18  44.3800"
      ]
     },
     "execution_count": 20,
     "metadata": {},
     "output_type": "execute_result"
    }
   ],
   "source": [
    "gold_df = []\n",
    "for x in gold_etf_data:\n",
    "        date = x\n",
    "        close = gold_etf_data[x]['4. close']\n",
    "        gold_df.append({\n",
    "            \"Date\": date,\n",
    "            \"Close\": close,\n",
    "        })\n",
    "gold_tickers_df = pd.DataFrame(gold_df)\n",
    "gold_tickers_df = gold_tickers_df[['Date', 'Close']]\n",
    "#tickers_df.sort_values(by='Date', ascending = False, inplace=True)\n",
    "gold_tickers_df['Date']= pd.to_datetime(gold_tickers_df['Date'])\n",
    "gold_tickers_df.set_index(\"Date\", inplace=True)\n",
    "gold_tickers_df.tail()"
   ]
  },
  {
   "cell_type": "code",
   "execution_count": 21,
   "metadata": {},
   "outputs": [],
   "source": [
    "def gold_window_data(df, window, feature_col_number, target_col_number):\n",
    "    \"\"\"\n",
    "    This function accepts the column number for the features (X) and the target (y).\n",
    "    It chunks the data up with a rolling window of Xt - window to predict Xt.\n",
    "    It returns two numpy arrays of X and y.\n",
    "    \"\"\"\n",
    "    gold_X = []\n",
    "    gold_y = []\n",
    "    for i in range(len(df) - window - 1):\n",
    "        features = df.iloc[i : (i + window), feature_col_number]\n",
    "        target = df.iloc[(i + window), target_col_number]\n",
    "        gold_X.append(features)\n",
    "        gold_y.append(target)\n",
    "    return np.array(gold_X), np.array(y).reshape(-1, 1)"
   ]
  },
  {
   "cell_type": "markdown",
   "metadata": {},
   "source": [
    "### 11. Creating the features (X) and target (y) data using the window_data() function"
   ]
  },
  {
   "cell_type": "code",
   "execution_count": 22,
   "metadata": {},
   "outputs": [],
   "source": [
    "gold_X, gold_y = window_data(gold_tickers_df, window_size, feature_column, target_column)"
   ]
  },
  {
   "cell_type": "markdown",
   "metadata": {},
   "source": [
    "### 12. Splitting Data Into Training and Testing"
   ]
  },
  {
   "cell_type": "code",
   "execution_count": 23,
   "metadata": {},
   "outputs": [],
   "source": [
    "gold_split = int(0.80 * len(gold_X))\n",
    "gold_X_train = gold_X[: gold_split - 1]\n",
    "gold_X_test = gold_X[gold_split:]\n",
    "gold_y_train = gold_y[: gold_split - 1]\n",
    "gold_y_test = gold_y[gold_split:]"
   ]
  },
  {
   "cell_type": "markdown",
   "metadata": {},
   "source": [
    "### 13. Scale Data"
   ]
  },
  {
   "cell_type": "code",
   "execution_count": 24,
   "metadata": {},
   "outputs": [],
   "source": [
    "scaler.fit(gold_X)\n",
    "gold_X_train = scaler.transform(gold_X_train)\n",
    "gold_X_test = scaler.transform(gold_X_test)\n",
    "scaler.fit(gold_y)\n",
    "gold_y_train = scaler.transform(gold_y_train)\n",
    "gold_y_test = scaler.transform(gold_y_test)"
   ]
  },
  {
   "cell_type": "markdown",
   "metadata": {},
   "source": [
    "### 14. Reshape Data"
   ]
  },
  {
   "cell_type": "code",
   "execution_count": 25,
   "metadata": {},
   "outputs": [],
   "source": [
    "gold_X_train = gold_X_train.reshape((gold_X_train.shape[0], gold_X_train.shape[1], 1))\n",
    "gold_X_test = gold_X_test.reshape((gold_X_test.shape[0], gold_X_test.shape[1], 1))"
   ]
  },
  {
   "cell_type": "markdown",
   "metadata": {},
   "source": [
    "### 15. Build Model"
   ]
  },
  {
   "cell_type": "code",
   "execution_count": 26,
   "metadata": {},
   "outputs": [],
   "source": [
    "gold_model = Sequential()\n",
    "\n",
    " # Initial model setup\n",
    "number_units = 60\n",
    "dropout_fraction = 0.4\n",
    "\n",
    " # Layer 1\n",
    "gold_model.add(LSTM(\n",
    "    units=number_units,\n",
    "    return_sequences=True,\n",
    "    input_shape=(gold_X_train.shape[1], 1))\n",
    "    )\n",
    "gold_model.add(Dropout(dropout_fraction))\n",
    "\n",
    " # Layer 2\n",
    "gold_model.add(LSTM(units=number_units, return_sequences=True))\n",
    "gold_model.add(Dropout(dropout_fraction))\n",
    "\n",
    " # Layer 3\n",
    "gold_model.add(LSTM(units=number_units))\n",
    "gold_model.add(Dropout(dropout_fraction))\n",
    "\n",
    " # Output layer\n",
    "gold_model.add(Dense(1))"
   ]
  },
  {
   "cell_type": "code",
   "execution_count": 27,
   "metadata": {},
   "outputs": [],
   "source": [
    "gold_model.compile(optimizer=\"adam\", loss=\"mean_squared_error\")"
   ]
  },
  {
   "cell_type": "markdown",
   "metadata": {},
   "source": [
    "### 16. Train Model"
   ]
  },
  {
   "cell_type": "code",
   "execution_count": 32,
   "metadata": {},
   "outputs": [
    {
     "name": "stdout",
     "output_type": "stream",
     "text": [
      "Epoch 1/20\n",
      "62/62 [==============================] - 9s 144ms/step - loss: 0.0111\n",
      "Epoch 2/20\n",
      "62/62 [==============================] - 9s 143ms/step - loss: 0.0052\n",
      "Epoch 3/20\n",
      "62/62 [==============================] - 9s 144ms/step - loss: 0.0047\n",
      "Epoch 4/20\n",
      "62/62 [==============================] - 9s 143ms/step - loss: 0.0036\n",
      "Epoch 5/20\n",
      "62/62 [==============================] - 9s 143ms/step - loss: 0.0023\n",
      "Epoch 6/20\n",
      "62/62 [==============================] - 9s 143ms/step - loss: 0.0019\n",
      "Epoch 7/20\n",
      "62/62 [==============================] - 9s 143ms/step - loss: 0.0016\n",
      "Epoch 8/20\n",
      "62/62 [==============================] - 9s 143ms/step - loss: 0.0015\n",
      "Epoch 9/20\n",
      "62/62 [==============================] - 9s 143ms/step - loss: 0.0015\n",
      "Epoch 10/20\n",
      "62/62 [==============================] - 9s 144ms/step - loss: 0.0014\n",
      "Epoch 11/20\n",
      "62/62 [==============================] - 9s 143ms/step - loss: 0.0014\n",
      "Epoch 12/20\n",
      "62/62 [==============================] - 9s 143ms/step - loss: 0.0013\n",
      "Epoch 13/20\n",
      "62/62 [==============================] - 9s 142ms/step - loss: 0.0014\n",
      "Epoch 14/20\n",
      "62/62 [==============================] - 9s 143ms/step - loss: 0.0014\n",
      "Epoch 15/20\n",
      "62/62 [==============================] - 9s 144ms/step - loss: 0.0014\n",
      "Epoch 16/20\n",
      "62/62 [==============================] - 9s 141ms/step - loss: 0.0013\n",
      "Epoch 17/20\n",
      "62/62 [==============================] - 9s 142ms/step - loss: 0.0013\n",
      "Epoch 18/20\n",
      "62/62 [==============================] - 9s 143ms/step - loss: 0.0013\n",
      "Epoch 19/20\n",
      "62/62 [==============================] - 9s 143ms/step - loss: 0.0013\n",
      "Epoch 20/20\n",
      "62/62 [==============================] - 9s 143ms/step - loss: 0.0014\n"
     ]
    },
    {
     "data": {
      "text/plain": [
       "<tensorflow.python.keras.callbacks.History at 0x1fd561070c8>"
      ]
     },
     "execution_count": 32,
     "metadata": {},
     "output_type": "execute_result"
    }
   ],
   "source": [
    "gold_model.fit(gold_X_train, gold_y_train, epochs=20, shuffle=False, batch_size=50, verbose=1)"
   ]
  },
  {
   "cell_type": "markdown",
   "metadata": {},
   "source": [
    "### 17. Make Predictions"
   ]
  },
  {
   "cell_type": "code",
   "execution_count": 33,
   "metadata": {},
   "outputs": [
    {
     "data": {
      "text/html": [
       "<div>\n",
       "<style scoped>\n",
       "    .dataframe tbody tr th:only-of-type {\n",
       "        vertical-align: middle;\n",
       "    }\n",
       "\n",
       "    .dataframe tbody tr th {\n",
       "        vertical-align: top;\n",
       "    }\n",
       "\n",
       "    .dataframe thead th {\n",
       "        text-align: right;\n",
       "    }\n",
       "</style>\n",
       "<table border=\"1\" class=\"dataframe\">\n",
       "  <thead>\n",
       "    <tr style=\"text-align: right;\">\n",
       "      <th></th>\n",
       "      <th>Actual</th>\n",
       "      <th>Predicted</th>\n",
       "    </tr>\n",
       "  </thead>\n",
       "  <tbody>\n",
       "    <tr>\n",
       "      <th>0</th>\n",
       "      <td>79.24</td>\n",
       "      <td>76.957703</td>\n",
       "    </tr>\n",
       "    <tr>\n",
       "      <th>1</th>\n",
       "      <td>79.25</td>\n",
       "      <td>76.506294</td>\n",
       "    </tr>\n",
       "    <tr>\n",
       "      <th>2</th>\n",
       "      <td>78.13</td>\n",
       "      <td>76.292305</td>\n",
       "    </tr>\n",
       "    <tr>\n",
       "      <th>3</th>\n",
       "      <td>78.52</td>\n",
       "      <td>76.120720</td>\n",
       "    </tr>\n",
       "    <tr>\n",
       "      <th>4</th>\n",
       "      <td>78.50</td>\n",
       "      <td>76.036949</td>\n",
       "    </tr>\n",
       "  </tbody>\n",
       "</table>\n",
       "</div>"
      ],
      "text/plain": [
       "   Actual  Predicted\n",
       "0   79.24  76.957703\n",
       "1   79.25  76.506294\n",
       "2   78.13  76.292305\n",
       "3   78.52  76.120720\n",
       "4   78.50  76.036949"
      ]
     },
     "execution_count": 33,
     "metadata": {},
     "output_type": "execute_result"
    }
   ],
   "source": [
    "gold_predicted = gold_model.predict(gold_X_test)\n",
    "\n",
    "gold_predicted_prices = scaler.inverse_transform(gold_predicted)\n",
    "gold_real_prices = scaler.inverse_transform(gold_y_test.reshape(-1, 1))\n",
    "\n",
    "# Create a DataFrame of Real and Predicted values\n",
    "gold = pd.DataFrame({\n",
    "    \"Actual\": gold_real_prices.ravel(),\n",
    "    \"Predicted\": gold_predicted_prices.ravel()\n",
    "})\n",
    "\n",
    "# Show the DataFrame's head\n",
    "gold.head()"
   ]
  },
  {
   "cell_type": "markdown",
   "metadata": {
    "jupyter": {
     "source_hidden": true
    }
   },
   "source": [
    "### 18. Evaluate Model Performance "
   ]
  },
  {
   "cell_type": "code",
   "execution_count": 34,
   "metadata": {
    "collapsed": true,
    "jupyter": {
     "outputs_hidden": true,
     "source_hidden": true
    }
   },
   "outputs": [
    {
     "data": {
      "text/plain": [
       "0.0014035749481990933"
      ]
     },
     "execution_count": 34,
     "metadata": {},
     "output_type": "execute_result"
    }
   ],
   "source": [
    "gold_model.evaluate(gold_X_test, gold_y_test, verbose=0)"
   ]
  },
  {
   "cell_type": "markdown",
   "metadata": {},
   "source": [
    "### 19. Plot"
   ]
  },
  {
   "cell_type": "code",
   "execution_count": 35,
   "metadata": {},
   "outputs": [
    {
     "data": {
      "text/plain": [
       "<matplotlib.axes._subplots.AxesSubplot at 0x1fd580fba48>"
      ]
     },
     "execution_count": 35,
     "metadata": {},
     "output_type": "execute_result"
    },
    {
     "data": {
      "image/png": "[encoded data removed]",
      "text/plain": [
       "<Figure size 432x288 with 1 Axes>"
      ]
     },
     "metadata": {
      "needs_background": "light"
     },
     "output_type": "display_data"
    }
   ],
   "source": [
    "gold.plot(title=\"Actual Vs. Predicted Stock Prices\")"
   ]
  },
  {
   "cell_type": "code",
   "execution_count": 39,
   "metadata": {},
   "outputs": [
    {
     "name": "stdout",
     "output_type": "stream",
     "text": [
      "The R2 score for the SPY is 0.9676905638405079.\n"
     ]
    }
   ],
   "source": [
    "from sklearn.metrics import r2_score\n",
    "\n",
    "sp500_R2_score = r2_score(y_test, predicted)\n",
    "print(f\"The R2 score for the SPY is {sp500_R2_score}.\")"
   ]
  },
  {
   "cell_type": "code",
   "execution_count": 40,
   "metadata": {},
   "outputs": [
    {
     "name": "stdout",
     "output_type": "stream",
     "text": [
      "The R2 score for the GLD is 0.7593763803580302.\n"
     ]
    }
   ],
   "source": [
    "gold_R2_score = r2_score(gold_y_test, gold_predicted)\n",
    "print(f\"The R2 score for the GLD is {gold_R2_score}.\")"
   ]
  },
  {
   "cell_type": "code",
   "execution_count": 43,
   "metadata": {},
   "outputs": [
    {
     "name": "stdout",
     "output_type": "stream",
     "text": [
      "The Explained Variance Score for SPY is 0.9705131554150297.\n"
     ]
    }
   ],
   "source": [
    "from sklearn.metrics import explained_variance_score\n",
    "\n",
    "sp500_var_score = explained_variance_score(y_test, predicted, multioutput='uniform_average')\n",
    "print(f\"The Explained Variance Score for SPY is {sp500_var_score}.\")"
   ]
  },
  {
   "cell_type": "code",
   "execution_count": 44,
   "metadata": {},
   "outputs": [
    {
     "name": "stdout",
     "output_type": "stream",
     "text": [
      "The Explained Variance Score for GLD is 0.8986236878870566.\n"
     ]
    }
   ],
   "source": [
    "gold_var_score = explained_variance_score(gold_y_test, gold_predicted, multioutput='uniform_average')\n",
    "print(f\"The Explained Variance Score for GLD is {gold_var_score}.\")"
   ]
  },
  {
   "cell_type": "code",
   "execution_count": 47,
   "metadata": {},
   "outputs": [
    {
     "name": "stdout",
     "output_type": "stream",
     "text": [
      "The Max Error for SPY is 0.04183035200377033.\n"
     ]
    }
   ],
   "source": [
    "from sklearn.metrics import max_error\n",
    "\n",
    "sp500_max_error = max_error(y_test, predicted)\n",
    "print(f\"The Max Error for SPY is {sp500_max_error}.\")"
   ]
  },
  {
   "cell_type": "code",
   "execution_count": 48,
   "metadata": {},
   "outputs": [
    {
     "name": "stdout",
     "output_type": "stream",
     "text": [
      "The Max Error for GLD is 0.06719478050961974.\n"
     ]
    }
   ],
   "source": [
    "gold_max_error = max_error(gold_y_test, gold_predicted)\n",
    "print(f\"The Max Error for GLD is {gold_max_error}.\")"
   ]
  },
  {
   "cell_type": "code",
   "execution_count": null,
   "metadata": {},
   "outputs": [],
   "source": []
  }
 ],
 "metadata": {
  "kernelspec": {
   "display_name": "Python 3",
   "language": "python",
   "name": "python3"
  },
  "language_info": {
   "codemirror_mode": {
    "name": "ipython",
    "version": 3
   },
   "file_extension": ".py",
   "mimetype": "text/x-python",
   "name": "python",
   "nbconvert_exporter": "python",
   "pygments_lexer": "ipython3",
   "version": "3.7.7"
  }
 },
 "nbformat": 4,
 "nbformat_minor": 4
}
